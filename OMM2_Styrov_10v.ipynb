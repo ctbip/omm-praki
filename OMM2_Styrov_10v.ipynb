{
  "nbformat": 4,
  "nbformat_minor": 0,
  "metadata": {
    "language_info": {
      "codemirror_mode": {
        "name": "ipython",
        "version": 3
      },
      "file_extension": ".py",
      "mimetype": "text/x-python",
      "name": "python",
      "nbconvert_exporter": "python",
      "pygments_lexer": "ipython3",
      "version": "3.8.5"
    },
    "orig_nbformat": 2,
    "kernelspec": {
      "name": "python2",
      "display_name": "Python 2",
      "language": "python"
    },
    "colab": {
      "name": "OMM2_Styrov_10v.ipynb",
      "provenance": []
    }
  },
  "cells": [
    {
      "cell_type": "markdown",
      "metadata": {
        "id": "K-_D20ymqs3_"
      },
      "source": [
        "Библиотеки, которые используются в решении:"
      ]
    },
    {
      "cell_type": "code",
      "metadata": {
        "id": "EqCuJCs9qs4C"
      },
      "source": [
        "import numpy as np\n",
        "from matplotlib import pyplot as plt\n",
        "from mpl_toolkits.mplot3d import Axes3D\n",
        "import matplotlib.animation as animation\n",
        "import time\n",
        "%matplotlib inline"
      ],
      "execution_count": 1,
      "outputs": []
    },
    {
      "cell_type": "markdown",
      "metadata": {
        "id": "y-EqDQ1Hq4p-"
      },
      "source": [
        "<img src=https://i.imgur.com/PXUhLoO.png, width=400>"
      ]
    },
    {
      "cell_type": "code",
      "metadata": {
        "id": "hWYpxpVPqs4F"
      },
      "source": [
        ""
      ],
      "execution_count": null,
      "outputs": []
    }
  ]
}